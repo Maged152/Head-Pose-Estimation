{
 "cells": [
  {
   "cell_type": "markdown",
   "id": "e778009f",
   "metadata": {},
   "source": [
    "# Packages "
   ]
  },
  {
   "cell_type": "code",
   "execution_count": 1,
   "id": "6ba9079a",
   "metadata": {},
   "outputs": [],
   "source": [
    "import pandas as pd\n",
    "import numpy as np\n",
    "from sklearn.model_selection import train_test_split\n",
    "from sklearn.pipeline import Pipeline\n",
    "from sklearn.impute import SimpleImputer\n",
    "from sklearn.ensemble import RandomForestRegressor\n",
    "from sklearn.model_selection import GridSearchCV,RandomizedSearchCV\n",
    "import cv2\n",
    "import dlib\n",
    "import math\n",
    "from math import cos, sin\n",
    "import joblib"
   ]
  },
  {
   "cell_type": "markdown",
   "id": "03b0c075",
   "metadata": {},
   "source": [
    "# Load Data"
   ]
  },
  {
   "cell_type": "code",
   "execution_count": 2,
   "id": "5aa78ca7",
   "metadata": {},
   "outputs": [
    {
     "data": {
      "text/html": [
       "<div>\n",
       "<style scoped>\n",
       "    .dataframe tbody tr th:only-of-type {\n",
       "        vertical-align: middle;\n",
       "    }\n",
       "\n",
       "    .dataframe tbody tr th {\n",
       "        vertical-align: top;\n",
       "    }\n",
       "\n",
       "    .dataframe thead th {\n",
       "        text-align: right;\n",
       "    }\n",
       "</style>\n",
       "<table border=\"1\" class=\"dataframe\">\n",
       "  <thead>\n",
       "    <tr style=\"text-align: right;\">\n",
       "      <th></th>\n",
       "      <th>0</th>\n",
       "      <th>1</th>\n",
       "      <th>2</th>\n",
       "      <th>3</th>\n",
       "      <th>4</th>\n",
       "      <th>5</th>\n",
       "      <th>6</th>\n",
       "      <th>7</th>\n",
       "      <th>8</th>\n",
       "      <th>9</th>\n",
       "      <th>...</th>\n",
       "      <th>129</th>\n",
       "      <th>130</th>\n",
       "      <th>131</th>\n",
       "      <th>132</th>\n",
       "      <th>133</th>\n",
       "      <th>134</th>\n",
       "      <th>135</th>\n",
       "      <th>yaw</th>\n",
       "      <th>pitch</th>\n",
       "      <th>roll</th>\n",
       "    </tr>\n",
       "  </thead>\n",
       "  <tbody>\n",
       "    <tr>\n",
       "      <th>0</th>\n",
       "      <td>121.868034</td>\n",
       "      <td>122.367607</td>\n",
       "      <td>126.819237</td>\n",
       "      <td>130.831787</td>\n",
       "      <td>137.523132</td>\n",
       "      <td>148.521729</td>\n",
       "      <td>161.528015</td>\n",
       "      <td>182.876678</td>\n",
       "      <td>213.940063</td>\n",
       "      <td>248.005371</td>\n",
       "      <td>...</td>\n",
       "      <td>310.149048</td>\n",
       "      <td>313.233856</td>\n",
       "      <td>315.107117</td>\n",
       "      <td>322.384613</td>\n",
       "      <td>330.965576</td>\n",
       "      <td>330.701965</td>\n",
       "      <td>324.903870</td>\n",
       "      <td>1.044306</td>\n",
       "      <td>-22.874239</td>\n",
       "      <td>4.908886</td>\n",
       "    </tr>\n",
       "    <tr>\n",
       "      <th>1</th>\n",
       "      <td>281.238159</td>\n",
       "      <td>277.339417</td>\n",
       "      <td>274.876953</td>\n",
       "      <td>269.523773</td>\n",
       "      <td>257.788269</td>\n",
       "      <td>240.968155</td>\n",
       "      <td>221.801483</td>\n",
       "      <td>205.846298</td>\n",
       "      <td>207.085449</td>\n",
       "      <td>226.185638</td>\n",
       "      <td>...</td>\n",
       "      <td>303.093811</td>\n",
       "      <td>300.724457</td>\n",
       "      <td>300.060974</td>\n",
       "      <td>303.260895</td>\n",
       "      <td>299.485168</td>\n",
       "      <td>300.598602</td>\n",
       "      <td>302.286499</td>\n",
       "      <td>68.155240</td>\n",
       "      <td>26.932743</td>\n",
       "      <td>17.243670</td>\n",
       "    </tr>\n",
       "    <tr>\n",
       "      <th>2</th>\n",
       "      <td>236.385101</td>\n",
       "      <td>239.198257</td>\n",
       "      <td>242.566376</td>\n",
       "      <td>243.971375</td>\n",
       "      <td>242.828186</td>\n",
       "      <td>238.567902</td>\n",
       "      <td>232.561859</td>\n",
       "      <td>229.155289</td>\n",
       "      <td>238.303162</td>\n",
       "      <td>259.122467</td>\n",
       "      <td>...</td>\n",
       "      <td>303.122009</td>\n",
       "      <td>302.877289</td>\n",
       "      <td>302.146454</td>\n",
       "      <td>300.489380</td>\n",
       "      <td>303.481873</td>\n",
       "      <td>304.681732</td>\n",
       "      <td>304.631042</td>\n",
       "      <td>50.485413</td>\n",
       "      <td>-10.579652</td>\n",
       "      <td>-13.570645</td>\n",
       "    </tr>\n",
       "    <tr>\n",
       "      <th>3</th>\n",
       "      <td>168.029221</td>\n",
       "      <td>177.697510</td>\n",
       "      <td>190.641602</td>\n",
       "      <td>201.395294</td>\n",
       "      <td>211.957214</td>\n",
       "      <td>222.723099</td>\n",
       "      <td>231.350220</td>\n",
       "      <td>244.332855</td>\n",
       "      <td>268.327637</td>\n",
       "      <td>291.832214</td>\n",
       "      <td>...</td>\n",
       "      <td>315.469391</td>\n",
       "      <td>312.701294</td>\n",
       "      <td>310.133301</td>\n",
       "      <td>300.041290</td>\n",
       "      <td>315.544800</td>\n",
       "      <td>319.498596</td>\n",
       "      <td>320.843994</td>\n",
       "      <td>17.143373</td>\n",
       "      <td>-10.048455</td>\n",
       "      <td>-21.392782</td>\n",
       "    </tr>\n",
       "    <tr>\n",
       "      <th>4</th>\n",
       "      <td>280.462250</td>\n",
       "      <td>287.249817</td>\n",
       "      <td>293.892456</td>\n",
       "      <td>297.539368</td>\n",
       "      <td>295.677002</td>\n",
       "      <td>287.270355</td>\n",
       "      <td>271.661591</td>\n",
       "      <td>254.701157</td>\n",
       "      <td>250.219299</td>\n",
       "      <td>261.212463</td>\n",
       "      <td>...</td>\n",
       "      <td>306.811768</td>\n",
       "      <td>307.014893</td>\n",
       "      <td>305.351318</td>\n",
       "      <td>309.934814</td>\n",
       "      <td>311.558899</td>\n",
       "      <td>312.920746</td>\n",
       "      <td>312.058350</td>\n",
       "      <td>68.640550</td>\n",
       "      <td>-50.544582</td>\n",
       "      <td>-59.207973</td>\n",
       "    </tr>\n",
       "  </tbody>\n",
       "</table>\n",
       "<p>5 rows × 139 columns</p>\n",
       "</div>"
      ],
      "text/plain": [
       "            0           1           2           3           4           5  \\\n",
       "0  121.868034  122.367607  126.819237  130.831787  137.523132  148.521729   \n",
       "1  281.238159  277.339417  274.876953  269.523773  257.788269  240.968155   \n",
       "2  236.385101  239.198257  242.566376  243.971375  242.828186  238.567902   \n",
       "3  168.029221  177.697510  190.641602  201.395294  211.957214  222.723099   \n",
       "4  280.462250  287.249817  293.892456  297.539368  295.677002  287.270355   \n",
       "\n",
       "            6           7           8           9  ...         129  \\\n",
       "0  161.528015  182.876678  213.940063  248.005371  ...  310.149048   \n",
       "1  221.801483  205.846298  207.085449  226.185638  ...  303.093811   \n",
       "2  232.561859  229.155289  238.303162  259.122467  ...  303.122009   \n",
       "3  231.350220  244.332855  268.327637  291.832214  ...  315.469391   \n",
       "4  271.661591  254.701157  250.219299  261.212463  ...  306.811768   \n",
       "\n",
       "          130         131         132         133         134         135  \\\n",
       "0  313.233856  315.107117  322.384613  330.965576  330.701965  324.903870   \n",
       "1  300.724457  300.060974  303.260895  299.485168  300.598602  302.286499   \n",
       "2  302.877289  302.146454  300.489380  303.481873  304.681732  304.631042   \n",
       "3  312.701294  310.133301  300.041290  315.544800  319.498596  320.843994   \n",
       "4  307.014893  305.351318  309.934814  311.558899  312.920746  312.058350   \n",
       "\n",
       "         yaw      pitch       roll  \n",
       "0   1.044306 -22.874239   4.908886  \n",
       "1  68.155240  26.932743  17.243670  \n",
       "2  50.485413 -10.579652 -13.570645  \n",
       "3  17.143373 -10.048455 -21.392782  \n",
       "4  68.640550 -50.544582 -59.207973  \n",
       "\n",
       "[5 rows x 139 columns]"
      ]
     },
     "execution_count": 2,
     "metadata": {},
     "output_type": "execute_result"
    }
   ],
   "source": [
    "df_pose=pd.read_csv('data/head_pose.csv')\n",
    "df_pose.head()"
   ]
  },
  {
   "cell_type": "markdown",
   "id": "bba50f4d",
   "metadata": {},
   "source": [
    "# Feature & targets"
   ]
  },
  {
   "cell_type": "code",
   "execution_count": 3,
   "id": "9fdf61a3",
   "metadata": {},
   "outputs": [],
   "source": [
    "y=df_pose[['yaw','pitch','roll']]\n",
    "x=df_pose.drop(columns=['yaw','pitch','roll'],axis=1)"
   ]
  },
  {
   "cell_type": "markdown",
   "id": "5bdc24bf",
   "metadata": {},
   "source": [
    "# Data preprocessing"
   ]
  },
  {
   "cell_type": "code",
   "execution_count": 4,
   "id": "11a669fe",
   "metadata": {},
   "outputs": [],
   "source": [
    "x_coordinate_idx=[str(i) for i in range(x.shape[1]) if i%2==0]\n",
    "y_coordinate_idx=[str(i) for i in range(x.shape[1]) if i%2!=0]"
   ]
  },
  {
   "cell_type": "code",
   "execution_count": 5,
   "id": "a2154af6",
   "metadata": {},
   "outputs": [],
   "source": [
    "class SubImputer(SimpleImputer):\n",
    "    def __init__(self,x_num,x_corr,y_num,y_corr):\n",
    "        self.x_num= x_num\n",
    "        self.y_num= y_num\n",
    "        self.x_corr=x_corr\n",
    "        self.y_corr=y_corr\n",
    "        return \n",
    "\n",
    "    def fit(self, X):\n",
    "        \n",
    "        return self\n",
    "\n",
    "    def transform(self, X):\n",
    "        #seperate x&y points\n",
    "        x_data=X[self.x_corr]\n",
    "        y_data=X[self.y_corr]\n",
    "        #subtract the centre point\n",
    "        x_data=x_data.sub(x_data[f'{self.x_num}'],axis=0)\n",
    "        y_data=y_data.sub(y_data[f'{self.y_num}'],axis=0)\n",
    "        #join the two data frames\n",
    "        full_data=pd.concat([x_data, y_data], axis=1)\n",
    "        #resort the coloumns\n",
    "        data_idx=[str(i) for i in range(X.shape[1])]\n",
    "        \n",
    "        return full_data[data_idx].sort_index(axis = 0)\n",
    "    \n",
    "    def predict(self,X):\n",
    "        return self.transform(X)"
   ]
  },
  {
   "cell_type": "code",
   "execution_count": 6,
   "id": "9c429575",
   "metadata": {},
   "outputs": [],
   "source": [
    "class NormaliseImputer(SimpleImputer):\n",
    "    def __init__(self,x_corr,y_corr):\n",
    "        self.x_corr=x_corr\n",
    "        self.y_corr=y_corr\n",
    "        return \n",
    "\n",
    "    def fit(self, X):\n",
    "        \n",
    "        return self\n",
    "\n",
    "    def transform(self, X):\n",
    "        #seperate x&y points\n",
    "        x_data=X[self.x_corr]\n",
    "        y_data=X[self.y_corr]\n",
    "        #normalise the points => p-min/max-min\n",
    "        x_data=x_data.sub(x_data.min(axis=1),axis=0)\n",
    "        x_data=x_data.div( (x_data.max(axis=1)-x_data.min(axis=1)) ,axis=0)\n",
    "        \n",
    "        y_data=y_data.sub(y_data.min(axis=1),axis=0)\n",
    "        y_data=y_data.div( (y_data.max(axis=1)-y_data.min(axis=1)) ,axis=0)\n",
    "        #join the two data frames\n",
    "        full_data=pd.concat([x_data, y_data], axis=1)\n",
    "        #resort the coloumns\n",
    "        data_idx=[str(i) for i in range(X.shape[1])]\n",
    "        \n",
    "        return full_data[data_idx].sort_index(axis = 0)\n",
    "    \n",
    "    def predict(self,X):\n",
    "        return self.transform(X)"
   ]
  },
  {
   "cell_type": "code",
   "execution_count": 7,
   "id": "ed745956",
   "metadata": {},
   "outputs": [],
   "source": [
    "preprocessing_pip =Pipeline([\n",
    "                              (\"noramalise the face points\",NormaliseImputer(x_coordinate_idx,y_coordinate_idx)),\n",
    "                              (\"centre the coordinate arround the nose\",SubImputer(30,x_coordinate_idx,31,y_coordinate_idx)),\n",
    "                            ])"
   ]
  },
  {
   "cell_type": "markdown",
   "id": "1c10c85f",
   "metadata": {},
   "source": [
    "# Build the model"
   ]
  },
  {
   "cell_type": "code",
   "execution_count": 8,
   "id": "90957318",
   "metadata": {},
   "outputs": [],
   "source": [
    "para_grid=[\n",
    "            {'bootstrap':[True]},\n",
    "            {'max_leaf_nodes':[i for i in range(30,100)] },\n",
    "            {'n_estimators':[i for i in range(40,100)]},\n",
    "            {'max_samples':[i for i in range(90,1000)]},\n",
    "            { 'n_jobs':[-1]}\n",
    "]\n",
    "\n",
    "para_grid_2=[\n",
    "            {'bootstrap':[True]},\n",
    "            {'max_leaf_nodes':[i for i in range(70,120)] },\n",
    "            {'n_estimators':[i for i in range(100,250)]},\n",
    "            {'max_samples':[i for i in range(800,1250)]},\n",
    "            { 'n_jobs':[-1]}\n",
    "]"
   ]
  },
  {
   "cell_type": "code",
   "execution_count": 9,
   "id": "c080b10f",
   "metadata": {},
   "outputs": [],
   "source": [
    "x_p= preprocessing_pip.fit_transform(x)"
   ]
  },
  {
   "cell_type": "code",
   "execution_count": 10,
   "id": "fb1dc734",
   "metadata": {},
   "outputs": [],
   "source": [
    "#choose best parameters using grid search"
   ]
  },
  {
   "cell_type": "code",
   "execution_count": 11,
   "id": "f5ef1383",
   "metadata": {},
   "outputs": [],
   "source": [
    "rand_search_yaw=RandomizedSearchCV(RandomForestRegressor(),para_grid,cv=5,scoring=\"neg_mean_squared_error\")\n",
    "rand_search_pitch=RandomizedSearchCV(RandomForestRegressor(),para_grid_2,cv=5,scoring=\"neg_mean_squared_error\")\n",
    "rand_search_roll=RandomizedSearchCV(RandomForestRegressor(),para_grid,cv=5,scoring=\"neg_mean_squared_error\")"
   ]
  },
  {
   "cell_type": "code",
   "execution_count": 12,
   "id": "aca47df4",
   "metadata": {},
   "outputs": [],
   "source": [
    "_=rand_search_yaw.fit(x_p,y.yaw)\n",
    "_=rand_search_roll.fit(x_p,y.roll)\n",
    "_=rand_search_pitch.fit(x_p,y.pitch)"
   ]
  },
  {
   "cell_type": "code",
   "execution_count": 13,
   "id": "7b73bd6a",
   "metadata": {},
   "outputs": [],
   "source": [
    "#test the choosen models"
   ]
  },
  {
   "cell_type": "code",
   "execution_count": 11,
   "id": "90e03456",
   "metadata": {},
   "outputs": [
    {
     "ename": "NameError",
     "evalue": "name 'rand_search_yaw' is not defined",
     "output_type": "error",
     "traceback": [
      "\u001b[1;31m---------------------------------------------------------------------------\u001b[0m",
      "\u001b[1;31mNameError\u001b[0m                                 Traceback (most recent call last)",
      "\u001b[1;32mC:\\Users\\SOUQEL~1\\AppData\\Local\\Temp/ipykernel_6456/189558428.py\u001b[0m in \u001b[0;36m<module>\u001b[1;34m\u001b[0m\n\u001b[1;32m----> 1\u001b[1;33m \u001b[0myaw_model\u001b[0m\u001b[1;33m=\u001b[0m\u001b[0mrand_search_yaw\u001b[0m\u001b[1;33m.\u001b[0m\u001b[0mestimator\u001b[0m\u001b[1;33m\u001b[0m\u001b[1;33m\u001b[0m\u001b[0m\n\u001b[0m\u001b[0;32m      2\u001b[0m \u001b[0m_\u001b[0m\u001b[1;33m=\u001b[0m\u001b[0myaw_model\u001b[0m\u001b[1;33m.\u001b[0m\u001b[0mfit\u001b[0m\u001b[1;33m(\u001b[0m\u001b[0mx_p\u001b[0m\u001b[1;33m,\u001b[0m\u001b[0my\u001b[0m\u001b[1;33m.\u001b[0m\u001b[0myaw\u001b[0m\u001b[1;33m)\u001b[0m\u001b[1;33m\u001b[0m\u001b[1;33m\u001b[0m\u001b[0m\n\u001b[0;32m      3\u001b[0m \u001b[0mscore\u001b[0m \u001b[1;33m=\u001b[0m \u001b[0myaw_model\u001b[0m\u001b[1;33m.\u001b[0m\u001b[0mscore\u001b[0m\u001b[1;33m(\u001b[0m\u001b[0mx_p\u001b[0m\u001b[1;33m,\u001b[0m \u001b[0my\u001b[0m\u001b[1;33m.\u001b[0m\u001b[0myaw\u001b[0m\u001b[1;33m)\u001b[0m\u001b[1;33m\u001b[0m\u001b[1;33m\u001b[0m\u001b[0m\n\u001b[0;32m      4\u001b[0m \u001b[0mprint\u001b[0m\u001b[1;33m(\u001b[0m\u001b[1;34m\"R-squared:\"\u001b[0m\u001b[1;33m,\u001b[0m \u001b[0mscore\u001b[0m\u001b[1;33m)\u001b[0m\u001b[1;33m\u001b[0m\u001b[1;33m\u001b[0m\u001b[0m\n",
      "\u001b[1;31mNameError\u001b[0m: name 'rand_search_yaw' is not defined"
     ]
    }
   ],
   "source": [
    "yaw_model=rand_search_yaw.estimator\n",
    "_=yaw_model.fit(x_p,y.yaw)\n",
    "score = yaw_model.score(x_p, y.yaw)\n",
    "print(\"R-squared:\", score) "
   ]
  },
  {
   "cell_type": "code",
   "execution_count": 12,
   "id": "b7bee94e",
   "metadata": {},
   "outputs": [
    {
     "name": "stdout",
     "output_type": "stream",
     "text": [
      "R-squared: 0.9491116258687262\n"
     ]
    }
   ],
   "source": [
    "roll_model=rand_search_roll.estimator\n",
    "_=roll_model.fit(x_p,y.roll)\n",
    "score = roll_model.score(x_p, y.roll)\n",
    "print(\"R-squared:\", score) "
   ]
  },
  {
   "cell_type": "code",
   "execution_count": 16,
   "id": "002eab4b",
   "metadata": {},
   "outputs": [
    {
     "name": "stdout",
     "output_type": "stream",
     "text": [
      "R-squared: 0.8331659985693691\n"
     ]
    }
   ],
   "source": [
    "pitch_model=rand_search_pitch.estimator\n",
    "_=pitch_model.fit(x_p,y.pitch)\n",
    "score = pitch_model.score(x_p, y.pitch)\n",
    "print(\"R-squared:\", score) "
   ]
  },
  {
   "cell_type": "code",
   "execution_count": 17,
   "id": "81b5b505",
   "metadata": {},
   "outputs": [],
   "source": [
    "#save the modles"
   ]
  },
  {
   "cell_type": "code",
   "execution_count": 20,
   "id": "ae2a9755",
   "metadata": {},
   "outputs": [],
   "source": [
    "_=joblib.dump(yaw_model,\"yaw_model.pkl\")\n",
    "_=joblib.dump(roll_model,\"roll_model.pkl\")\n",
    "_=joblib.dump(pitch_model,\"pitch_model.pkl\")"
   ]
  },
  {
   "cell_type": "code",
   "execution_count": 21,
   "id": "c7b70c30",
   "metadata": {},
   "outputs": [],
   "source": [
    "#load the models"
   ]
  },
  {
   "cell_type": "code",
   "execution_count": 10,
   "id": "c97ad09c",
   "metadata": {},
   "outputs": [],
   "source": [
    "yaw_model =joblib.load(\"yaw_model.pkl\")\n",
    "roll_model =joblib.load(\"roll_model.pkl\")\n",
    "pitch_model =joblib.load(\"pitch_model.pkl\")"
   ]
  },
  {
   "cell_type": "markdown",
   "id": "34b4be4b",
   "metadata": {},
   "source": [
    "# Full pipeline"
   ]
  },
  {
   "cell_type": "code",
   "execution_count": 13,
   "id": "173bae88",
   "metadata": {},
   "outputs": [],
   "source": [
    "yaw_pip=Pipeline([\n",
    "                    ('preprocessing',preprocessing_pip),\n",
    "                    ('yaw model',yaw_model)\n",
    "                 ])"
   ]
  },
  {
   "cell_type": "code",
   "execution_count": 14,
   "id": "b4e11cbd",
   "metadata": {},
   "outputs": [],
   "source": [
    "pitch_pip=Pipeline([\n",
    "                    ('preprocessing',preprocessing_pip),\n",
    "                    ('yaw model',pitch_model)\n",
    "                 ])"
   ]
  },
  {
   "cell_type": "code",
   "execution_count": 15,
   "id": "f66a37aa",
   "metadata": {},
   "outputs": [],
   "source": [
    "roll_pip=Pipeline([\n",
    "                    ('preprocessing',preprocessing_pip),\n",
    "                    ('yaw model',roll_model)\n",
    "                 ])"
   ]
  },
  {
   "cell_type": "markdown",
   "id": "976cfa0c",
   "metadata": {},
   "source": [
    "# Generate & draw landmarks"
   ]
  },
  {
   "cell_type": "code",
   "execution_count": 25,
   "id": "dfa1bc6c",
   "metadata": {},
   "outputs": [],
   "source": [
    "def draw_axis(img, pitch,yaw,roll, tdx=None, tdy=None, size = 2500):\n",
    "    \n",
    "    pitch = pitch * np.pi / 180\n",
    "    yaw = -(yaw * np.pi / 180)\n",
    "    roll = roll * np.pi / 180\n",
    "\n",
    "    if tdx != None and tdy != None:\n",
    "        tdx = tdx\n",
    "        tdy = tdy\n",
    "    else:\n",
    "        height, width = img.shape[:2]\n",
    "        tdx = width / 2\n",
    "        tdy = height / 2\n",
    "\n",
    "    # X-Axis pointing to right. drawn in red\n",
    "    x1 = size * (cos(yaw) * cos(roll)) + tdx\n",
    "    y1 = size * (cos(pitch) * sin(roll) + cos(roll) * sin(pitch) * sin(yaw)) + tdy\n",
    "\n",
    "    # Y-Axis | drawn in green\n",
    "    #        v\n",
    "    x2 = size * (-cos(yaw) * sin(roll)) + tdx\n",
    "    y2 = size * (cos(pitch) * cos(roll) - sin(pitch) * sin(yaw) * sin(roll)) + tdy\n",
    "\n",
    "    # Z-Axis (out of the screen) drawn in blue\n",
    "    x3 = size * (sin(yaw)) + tdx\n",
    "    y3 = size * (-cos(yaw) * sin(pitch)) + tdy\n",
    "\n",
    "    \n",
    "    cv2.line(img, (int(tdx), int(tdy)), (int(x1),int(y1)),(0,0,255),3)\n",
    "    cv2.line(img, (int(tdx), int(tdy)), (int(x2),int(y2)),(0,255,0),3)\n",
    "    cv2.line(img, (int(tdx), int(tdy)), (int(x3),int(y3)),(255,0,0),2)\n",
    "\n",
    "    return img"
   ]
  },
  {
   "cell_type": "code",
   "execution_count": 60,
   "id": "0b57bc51",
   "metadata": {},
   "outputs": [],
   "source": [
    "def generate_landmarks(img): \n",
    "    img=cv2.resize(img,(512,512))\n",
    "    img_gray = cv2.cvtColor(img, cv2.COLOR_BGR2GRAY)\n",
    "    mask = np.zeros_like(img_gray)\n",
    "    detector = dlib.get_frontal_face_detector()\n",
    "    predictor = dlib.shape_predictor('shape_predictor_68_face_landmarks.dat')\n",
    "    faces = detector(img_gray)\n",
    "    if len(faces)==0:\n",
    "        return l \n",
    "    for face in faces:\n",
    "        landmarks = predictor(img_gray, face)\n",
    "        landmarks_points = []\n",
    "        landmarks_points_x = []\n",
    "        landmarks_points_y = []\n",
    "        for n in range(0,68):\n",
    "            x = landmarks.part(n).x\n",
    "            y = landmarks.part(n).y\n",
    "            landmarks_points_x.append(x)\n",
    "            landmarks_points_y.append(y)\n",
    "            cv2.circle(img, (x,y), radius=0, color=(0,0,0), thickness=5)\n",
    "        #cv2.imshow(path,img)\n",
    "        #cv2.waitKey(0)\n",
    "        #cv2.destroyAllWindows()   \n",
    "    landmarks_points=landmarks_points_x+landmarks_points_y\n",
    "    landmarks_points=np.array(landmarks_points).reshape((1,136))\n",
    "    landmarks=pd.DataFrame(landmarks_points,columns=df_pose.columns[0:136])\n",
    "    return landmarks"
   ]
  },
  {
   "cell_type": "code",
   "execution_count": 61,
   "id": "0cf8ba7b",
   "metadata": {},
   "outputs": [],
   "source": [
    "def draw_axis_cam():\n",
    "    vid = cv2.VideoCapture(0)\n",
    "    while(True):\n",
    "        ret, frame = vid.read()\n",
    "        #get landmarks\n",
    "        landmarks=generate_landmarks(frame)\n",
    "        #predict yaw,pitch and roll\n",
    "        yaw_p=yaw_pip.predict(landmarks)\n",
    "        pitch_p=pitch_pip.predict(landmarks)\n",
    "        roll_p=roll_pip.predict(landmarks)\n",
    "        #draw axis\n",
    "        frame=draw_axis(frame, pitch_p,yaw_p,roll_p)\n",
    "        #show the frame\n",
    "        cv2.imshow('webCam', frame)\n",
    "        if cv2.waitKey(1) & 0xFF == ord('q'):\n",
    "            vid.release()\n",
    "            cv2.destroyAllWindows()\n",
    "            return\n",
    "            \n",
    "    \n",
    "        "
   ]
  },
  {
   "cell_type": "code",
   "execution_count": 62,
   "id": "cea9155d",
   "metadata": {},
   "outputs": [],
   "source": [
    "def draw_axis_video(path):\n",
    "    cap = cv2.VideoCapture(path)\n",
    "    # Check if camera opened successfully\n",
    "    if (cap.isOpened()== False):\n",
    "        print(\"Error opening video stream or file\")\n",
    "\n",
    "    while(cap.isOpened()):\n",
    "        ret, frame = cap.read()\n",
    "        if ret == True:\n",
    "            #get landmarks\n",
    "            landmarks=generate_landmarks(frame)\n",
    "            #predict yaw,pitch and roll\n",
    "            yaw_p=yaw_pip.predict(landmarks)\n",
    "            pitch_p=pitch_pip.predict(landmarks)\n",
    "            roll_p=roll_pip.predict(landmarks)\n",
    "            #draw axis\n",
    "            frame=draw_axis(frame, pitch_p,yaw_p,roll_p)\n",
    "            #show the frame\n",
    "            cv2.imshow('Frame',frame)\n",
    "            if cv2.waitKey(25) & 0xFF == ord('q'):\n",
    "                  break\n",
    "\n",
    "        else:\n",
    "            break\n",
    "\n",
    "        \n",
    "    cap.release()\n",
    "    cv2.destroyAllWindows()\n",
    "    return"
   ]
  },
  {
   "cell_type": "code",
   "execution_count": 59,
   "id": "3ad430d2",
   "metadata": {},
   "outputs": [],
   "source": [
    "l=generate_landmarks(cv2.imread('alkber.jpg'))"
   ]
  },
  {
   "cell_type": "code",
   "execution_count": 64,
   "id": "38076977",
   "metadata": {},
   "outputs": [],
   "source": [
    "draw_axis_video('alkber360.mp4')"
   ]
  },
  {
   "cell_type": "code",
   "execution_count": 43,
   "id": "fdbde56b",
   "metadata": {},
   "outputs": [
    {
     "name": "stdout",
     "output_type": "stream",
     "text": [
      "ddd\n",
      "[0.4345231] [-1.13715275] [13.726375]\n"
     ]
    }
   ],
   "source": [
    "img=cv2.imread('alkber.jpg')\n",
    "\n",
    "landmarks=generate_landmarks(img)\n",
    "\n",
    "yaw_p=yaw_pip.predict(landmarks)\n",
    "pitch_p=pitch_pip.predict(landmarks)\n",
    "roll_p=roll_pip.predict(landmarks)\n",
    "print(yaw_p,pitch_p,roll_p)\n",
    "img=draw_axis(img,pitch_p,yaw_p,roll_p) \n",
    "cv2.imshow('test',img)\n",
    "cv2.waitKey(0)\n",
    "cv2.destroyAllWindows()"
   ]
  },
  {
   "cell_type": "code",
   "execution_count": 23,
   "id": "2b32c89a",
   "metadata": {},
   "outputs": [],
   "source": []
  },
  {
   "cell_type": "code",
   "execution_count": 27,
   "id": "bd3741df",
   "metadata": {},
   "outputs": [],
   "source": [
    "\n"
   ]
  },
  {
   "cell_type": "code",
   "execution_count": null,
   "id": "43acfa28",
   "metadata": {},
   "outputs": [],
   "source": []
  }
 ],
 "metadata": {
  "kernelspec": {
   "display_name": "Python 3 (ipykernel)",
   "language": "python",
   "name": "python3"
  },
  "language_info": {
   "codemirror_mode": {
    "name": "ipython",
    "version": 3
   },
   "file_extension": ".py",
   "mimetype": "text/x-python",
   "name": "python",
   "nbconvert_exporter": "python",
   "pygments_lexer": "ipython3",
   "version": "3.9.7"
  }
 },
 "nbformat": 4,
 "nbformat_minor": 5
}
