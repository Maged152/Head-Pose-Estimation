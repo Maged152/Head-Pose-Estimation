{
 "cells": [
  {
   "cell_type": "markdown",
   "id": "e778009f",
   "metadata": {},
   "source": [
    "# Packages "
   ]
  },
  {
   "cell_type": "code",
   "execution_count": 1,
   "id": "6ba9079a",
   "metadata": {},
   "outputs": [],
   "source": [
    "import pandas as pd\n",
    "import numpy as np\n",
    "from sklearn.model_selection import train_test_split\n",
    "from sklearn.pipeline import Pipeline\n",
    "from sklearn.impute import SimpleImputer\n",
    "from sklearn.ensemble import RandomForestRegressor\n",
    "from sklearn.model_selection import GridSearchCV,RandomizedSearchCV\n",
    "import cv2\n",
    "import dlib\n",
    "import math\n",
    "from math import cos, sin\n",
    "import joblib\n",
    "import mediapipe as mp"
   ]
  },
  {
   "cell_type": "markdown",
   "id": "03b0c075",
   "metadata": {},
   "source": [
    "# Load Data"
   ]
  },
  {
   "cell_type": "code",
   "execution_count": 2,
   "id": "5aa78ca7",
   "metadata": {},
   "outputs": [
    {
     "data": {
      "text/html": [
       "<div>\n",
       "<style scoped>\n",
       "    .dataframe tbody tr th:only-of-type {\n",
       "        vertical-align: middle;\n",
       "    }\n",
       "\n",
       "    .dataframe tbody tr th {\n",
       "        vertical-align: top;\n",
       "    }\n",
       "\n",
       "    .dataframe thead th {\n",
       "        text-align: right;\n",
       "    }\n",
       "</style>\n",
       "<table border=\"1\" class=\"dataframe\">\n",
       "  <thead>\n",
       "    <tr style=\"text-align: right;\">\n",
       "      <th></th>\n",
       "      <th>0</th>\n",
       "      <th>1</th>\n",
       "      <th>2</th>\n",
       "      <th>3</th>\n",
       "      <th>4</th>\n",
       "      <th>5</th>\n",
       "      <th>6</th>\n",
       "      <th>7</th>\n",
       "      <th>8</th>\n",
       "      <th>9</th>\n",
       "      <th>...</th>\n",
       "      <th>929</th>\n",
       "      <th>930</th>\n",
       "      <th>931</th>\n",
       "      <th>932</th>\n",
       "      <th>933</th>\n",
       "      <th>934</th>\n",
       "      <th>935</th>\n",
       "      <th>yaw</th>\n",
       "      <th>pitch</th>\n",
       "      <th>roll</th>\n",
       "    </tr>\n",
       "  </thead>\n",
       "  <tbody>\n",
       "    <tr>\n",
       "      <th>0</th>\n",
       "      <td>218.0</td>\n",
       "      <td>309.0</td>\n",
       "      <td>220.0</td>\n",
       "      <td>287.0</td>\n",
       "      <td>220.0</td>\n",
       "      <td>291.0</td>\n",
       "      <td>215.0</td>\n",
       "      <td>253.0</td>\n",
       "      <td>220.0</td>\n",
       "      <td>279.0</td>\n",
       "      <td>...</td>\n",
       "      <td>221.0</td>\n",
       "      <td>243.0</td>\n",
       "      <td>225.0</td>\n",
       "      <td>299.0</td>\n",
       "      <td>212.0</td>\n",
       "      <td>304.0</td>\n",
       "      <td>208.0</td>\n",
       "      <td>1.044306</td>\n",
       "      <td>-22.874239</td>\n",
       "      <td>4.908886</td>\n",
       "    </tr>\n",
       "    <tr>\n",
       "      <th>1</th>\n",
       "      <td>198.0</td>\n",
       "      <td>288.0</td>\n",
       "      <td>187.0</td>\n",
       "      <td>266.0</td>\n",
       "      <td>201.0</td>\n",
       "      <td>274.0</td>\n",
       "      <td>196.0</td>\n",
       "      <td>245.0</td>\n",
       "      <td>187.0</td>\n",
       "      <td>259.0</td>\n",
       "      <td>...</td>\n",
       "      <td>230.0</td>\n",
       "      <td>225.0</td>\n",
       "      <td>231.0</td>\n",
       "      <td>263.0</td>\n",
       "      <td>225.0</td>\n",
       "      <td>267.0</td>\n",
       "      <td>222.0</td>\n",
       "      <td>68.155240</td>\n",
       "      <td>26.932743</td>\n",
       "      <td>17.243670</td>\n",
       "    </tr>\n",
       "    <tr>\n",
       "      <th>2</th>\n",
       "      <td>143.0</td>\n",
       "      <td>359.0</td>\n",
       "      <td>144.0</td>\n",
       "      <td>349.0</td>\n",
       "      <td>143.0</td>\n",
       "      <td>351.0</td>\n",
       "      <td>139.0</td>\n",
       "      <td>335.0</td>\n",
       "      <td>144.0</td>\n",
       "      <td>345.0</td>\n",
       "      <td>...</td>\n",
       "      <td>324.0</td>\n",
       "      <td>147.0</td>\n",
       "      <td>325.0</td>\n",
       "      <td>168.0</td>\n",
       "      <td>320.0</td>\n",
       "      <td>169.0</td>\n",
       "      <td>319.0</td>\n",
       "      <td>50.485413</td>\n",
       "      <td>-10.579652</td>\n",
       "      <td>-13.570645</td>\n",
       "    </tr>\n",
       "    <tr>\n",
       "      <th>3</th>\n",
       "      <td>226.0</td>\n",
       "      <td>312.0</td>\n",
       "      <td>211.0</td>\n",
       "      <td>294.0</td>\n",
       "      <td>220.0</td>\n",
       "      <td>296.0</td>\n",
       "      <td>199.0</td>\n",
       "      <td>265.0</td>\n",
       "      <td>207.0</td>\n",
       "      <td>286.0</td>\n",
       "      <td>...</td>\n",
       "      <td>229.0</td>\n",
       "      <td>220.0</td>\n",
       "      <td>233.0</td>\n",
       "      <td>268.0</td>\n",
       "      <td>205.0</td>\n",
       "      <td>271.0</td>\n",
       "      <td>200.0</td>\n",
       "      <td>17.143373</td>\n",
       "      <td>-10.048455</td>\n",
       "      <td>-21.392782</td>\n",
       "    </tr>\n",
       "    <tr>\n",
       "      <th>4</th>\n",
       "      <td>229.0</td>\n",
       "      <td>301.0</td>\n",
       "      <td>221.0</td>\n",
       "      <td>272.0</td>\n",
       "      <td>224.0</td>\n",
       "      <td>281.0</td>\n",
       "      <td>210.0</td>\n",
       "      <td>244.0</td>\n",
       "      <td>219.0</td>\n",
       "      <td>263.0</td>\n",
       "      <td>...</td>\n",
       "      <td>219.0</td>\n",
       "      <td>227.0</td>\n",
       "      <td>221.0</td>\n",
       "      <td>271.0</td>\n",
       "      <td>203.0</td>\n",
       "      <td>275.0</td>\n",
       "      <td>201.0</td>\n",
       "      <td>0.685565</td>\n",
       "      <td>-1.536199</td>\n",
       "      <td>-12.643008</td>\n",
       "    </tr>\n",
       "  </tbody>\n",
       "</table>\n",
       "<p>5 rows × 939 columns</p>\n",
       "</div>"
      ],
      "text/plain": [
       "       0      1      2      3      4      5      6      7      8      9  ...  \\\n",
       "0  218.0  309.0  220.0  287.0  220.0  291.0  215.0  253.0  220.0  279.0  ...   \n",
       "1  198.0  288.0  187.0  266.0  201.0  274.0  196.0  245.0  187.0  259.0  ...   \n",
       "2  143.0  359.0  144.0  349.0  143.0  351.0  139.0  335.0  144.0  345.0  ...   \n",
       "3  226.0  312.0  211.0  294.0  220.0  296.0  199.0  265.0  207.0  286.0  ...   \n",
       "4  229.0  301.0  221.0  272.0  224.0  281.0  210.0  244.0  219.0  263.0  ...   \n",
       "\n",
       "     929    930    931    932    933    934    935        yaw      pitch  \\\n",
       "0  221.0  243.0  225.0  299.0  212.0  304.0  208.0   1.044306 -22.874239   \n",
       "1  230.0  225.0  231.0  263.0  225.0  267.0  222.0  68.155240  26.932743   \n",
       "2  324.0  147.0  325.0  168.0  320.0  169.0  319.0  50.485413 -10.579652   \n",
       "3  229.0  220.0  233.0  268.0  205.0  271.0  200.0  17.143373 -10.048455   \n",
       "4  219.0  227.0  221.0  271.0  203.0  275.0  201.0   0.685565  -1.536199   \n",
       "\n",
       "        roll  \n",
       "0   4.908886  \n",
       "1  17.243670  \n",
       "2 -13.570645  \n",
       "3 -21.392782  \n",
       "4 -12.643008  \n",
       "\n",
       "[5 rows x 939 columns]"
      ]
     },
     "execution_count": 2,
     "metadata": {},
     "output_type": "execute_result"
    }
   ],
   "source": [
    "df_pose=pd.read_csv('data/head_pose.csv')\n",
    "df_pose.head()"
   ]
  },
  {
   "cell_type": "markdown",
   "id": "bba50f4d",
   "metadata": {},
   "source": [
    "# Feature & targets"
   ]
  },
  {
   "cell_type": "code",
   "execution_count": 3,
   "id": "9fdf61a3",
   "metadata": {},
   "outputs": [],
   "source": [
    "y=df_pose[['yaw','pitch','roll']]\n",
    "x=df_pose.drop(columns=['yaw','pitch','roll'],axis=1)"
   ]
  },
  {
   "cell_type": "markdown",
   "id": "5bdc24bf",
   "metadata": {},
   "source": [
    "# Data preprocessing"
   ]
  },
  {
   "cell_type": "code",
   "execution_count": 4,
   "id": "11a669fe",
   "metadata": {},
   "outputs": [],
   "source": [
    "x_coordinate_idx=[str(i) for i in range(x.shape[1]) if i%2==0]\n",
    "y_coordinate_idx=[str(i) for i in range(x.shape[1]) if i%2!=0]"
   ]
  },
  {
   "cell_type": "code",
   "execution_count": 5,
   "id": "a2154af6",
   "metadata": {},
   "outputs": [],
   "source": [
    "class SubImputer(SimpleImputer):\n",
    "    def __init__(self,x_num,x_corr,y_num,y_corr):\n",
    "        self.x_num= x_num\n",
    "        self.y_num= y_num\n",
    "        self.x_corr=x_corr\n",
    "        self.y_corr=y_corr\n",
    "        return \n",
    "\n",
    "    def fit(self, X):\n",
    "        \n",
    "        return self\n",
    "\n",
    "    def transform(self, X):\n",
    "        #seperate x&y points\n",
    "        x_data=X[self.x_corr]\n",
    "        y_data=X[self.y_corr]\n",
    "        #subtract the centre point\n",
    "        x_data=x_data.sub(x_data[f'{self.x_num}'],axis=0)\n",
    "        y_data=y_data.sub(y_data[f'{self.y_num}'],axis=0)\n",
    "        #join the two data frames\n",
    "        full_data=pd.concat([x_data, y_data], axis=1)\n",
    "        #resort the coloumns\n",
    "        data_idx=[str(i) for i in range(X.shape[1])]\n",
    "        \n",
    "        return full_data[data_idx].sort_index(axis = 0)\n",
    "    \n",
    "    def predict(self,X):\n",
    "        return self.transform(X)"
   ]
  },
  {
   "cell_type": "code",
   "execution_count": 6,
   "id": "9c429575",
   "metadata": {},
   "outputs": [],
   "source": [
    "class NormaliseImputer(SimpleImputer):\n",
    "    def __init__(self,x_corr,y_corr):\n",
    "        self.x_corr=x_corr\n",
    "        self.y_corr=y_corr\n",
    "        return \n",
    "\n",
    "    def fit(self, X):\n",
    "        \n",
    "        return self\n",
    "\n",
    "    def transform(self, X):\n",
    "        #seperate x&y points\n",
    "        x_data=X[self.x_corr]\n",
    "        y_data=X[self.y_corr]\n",
    "        #normalise the points => p-min/max-min\n",
    "        x_data=x_data.sub(x_data.min(axis=1),axis=0)\n",
    "        x_data=x_data.div( (x_data.max(axis=1)-x_data.min(axis=1)) ,axis=0)\n",
    "        \n",
    "        y_data=y_data.sub(y_data.min(axis=1),axis=0)\n",
    "        y_data=y_data.div( (y_data.max(axis=1)-y_data.min(axis=1)) ,axis=0)\n",
    "        #join the two data frames\n",
    "        full_data=pd.concat([x_data, y_data], axis=1)\n",
    "        #resort the coloumns\n",
    "        data_idx=[str(i) for i in range(X.shape[1])]\n",
    "        \n",
    "        return full_data[data_idx].sort_index(axis = 0)\n",
    "    \n",
    "    def predict(self,X):\n",
    "        return self.transform(X)"
   ]
  },
  {
   "cell_type": "code",
   "execution_count": 7,
   "id": "ed745956",
   "metadata": {},
   "outputs": [],
   "source": [
    "preprocessing_pip =Pipeline([\n",
    "                              (\"noramalise the face points\",NormaliseImputer(x_coordinate_idx,y_coordinate_idx)),\n",
    "                              (\"centre the coordinate arround the nose\",SubImputer(2,x_coordinate_idx,3,y_coordinate_idx)),\n",
    "                            ])"
   ]
  },
  {
   "cell_type": "markdown",
   "id": "1c10c85f",
   "metadata": {},
   "source": [
    "# Build the model"
   ]
  },
  {
   "cell_type": "code",
   "execution_count": 8,
   "id": "90957318",
   "metadata": {},
   "outputs": [],
   "source": [
    "para_grid_r=[\n",
    "            {'bootstrap':[True]},\n",
    "            {'max_leaf_nodes':[i for i in range(90,101)] },\n",
    "            {'n_estimators':[i for i in range(75,81)]},\n",
    "            {'max_samples':[i for i in range(1300,1350)]},\n",
    "            { 'n_jobs':[-1]}\n",
    "]\n",
    "\n",
    "para_grid_y=[\n",
    "            {'bootstrap':[True]},\n",
    "            {'max_leaf_nodes':[i for i in range(100,121)] },\n",
    "            {'n_estimators':[i for i in range(90,100)]},\n",
    "            {'max_samples':[i for i in range(1350,1400)]},\n",
    "            { 'n_jobs':[-1]}\n",
    "]\n",
    "\n",
    "para_grid_p=[\n",
    "            {'bootstrap':[True]},\n",
    "            {'max_leaf_nodes':[i for i in range(100,111)] },\n",
    "            {'n_estimators':[i for i in range(90,100)]},\n",
    "            {'max_samples':[i for i in range(1230,1260)]},\n",
    "            { 'n_jobs':[-1]}\n",
    "]"
   ]
  },
  {
   "cell_type": "code",
   "execution_count": 8,
   "id": "c080b10f",
   "metadata": {},
   "outputs": [],
   "source": [
    "x_p= preprocessing_pip.fit_transform(x)"
   ]
  },
  {
   "cell_type": "code",
   "execution_count": 19,
   "id": "fb1dc734",
   "metadata": {},
   "outputs": [],
   "source": [
    "#choose best parameters using grid search"
   ]
  },
  {
   "cell_type": "code",
   "execution_count": 84,
   "id": "f5ef1383",
   "metadata": {},
   "outputs": [],
   "source": [
    "rand_search_yaw=RandomizedSearchCV(RandomForestRegressor(),para_grid_y,cv=5,scoring=\"neg_mean_squared_error\")\n",
    "rand_search_pitch=RandomizedSearchCV(RandomForestRegressor(),para_grid_p,cv=5,scoring=\"neg_mean_squared_error\")\n",
    "rand_search_roll=RandomizedSearchCV(RandomForestRegressor(),para_grid_r,cv=5,scoring=\"neg_mean_squared_error\")"
   ]
  },
  {
   "cell_type": "code",
   "execution_count": 85,
   "id": "6cfd644f",
   "metadata": {},
   "outputs": [],
   "source": [
    "_=rand_search_yaw.fit(x_p,y.yaw)"
   ]
  },
  {
   "cell_type": "code",
   "execution_count": 88,
   "id": "9fc7b91a",
   "metadata": {},
   "outputs": [],
   "source": [
    "_=rand_search_roll.fit(x_p,y.roll)"
   ]
  },
  {
   "cell_type": "code",
   "execution_count": 91,
   "id": "f4860057",
   "metadata": {},
   "outputs": [],
   "source": [
    "_=rand_search_pitch.fit(x_p,y.pitch)"
   ]
  },
  {
   "cell_type": "code",
   "execution_count": null,
   "id": "7b73bd6a",
   "metadata": {},
   "outputs": [],
   "source": [
    "#test the choosen models"
   ]
  },
  {
   "cell_type": "code",
   "execution_count": 86,
   "id": "90e03456",
   "metadata": {},
   "outputs": [
    {
     "name": "stdout",
     "output_type": "stream",
     "text": [
      "R-squared: 0.9753221423337376\n"
     ]
    }
   ],
   "source": [
    "yaw_model=rand_search_yaw.estimator\n",
    "_=yaw_model.fit(x_p,y.yaw)\n",
    "score = yaw_model.score(x_p, y.yaw)\n",
    "print(\"R-squared:\", score) "
   ]
  },
  {
   "cell_type": "code",
   "execution_count": 89,
   "id": "b7bee94e",
   "metadata": {},
   "outputs": [
    {
     "name": "stdout",
     "output_type": "stream",
     "text": [
      "R-squared: 0.8765854961001549\n"
     ]
    }
   ],
   "source": [
    "roll_model=rand_search_roll.estimator\n",
    "_=roll_model.fit(x_p,y.roll)\n",
    "score = roll_model.score(x_p, y.roll)\n",
    "print(\"R-squared:\", score) "
   ]
  },
  {
   "cell_type": "code",
   "execution_count": 92,
   "id": "002eab4b",
   "metadata": {},
   "outputs": [
    {
     "name": "stdout",
     "output_type": "stream",
     "text": [
      "R-squared: 0.8175894898994657\n"
     ]
    }
   ],
   "source": [
    "pitch_model=rand_search_pitch.estimator\n",
    "_=pitch_model.fit(x_p,y.pitch)\n",
    "score = pitch_model.score(x_p, y.pitch)\n",
    "print(\"R-squared:\", score) "
   ]
  },
  {
   "cell_type": "code",
   "execution_count": 17,
   "id": "81b5b505",
   "metadata": {},
   "outputs": [],
   "source": [
    "#save the modles"
   ]
  },
  {
   "cell_type": "code",
   "execution_count": 87,
   "id": "42d04e0b",
   "metadata": {},
   "outputs": [],
   "source": [
    "_=joblib.dump(yaw_model,\"yaw_model.pkl\")"
   ]
  },
  {
   "cell_type": "code",
   "execution_count": 90,
   "id": "3c823009",
   "metadata": {},
   "outputs": [],
   "source": [
    "_=joblib.dump(roll_model,\"roll_model.pkl\")"
   ]
  },
  {
   "cell_type": "code",
   "execution_count": 93,
   "id": "ae2a9755",
   "metadata": {},
   "outputs": [],
   "source": [
    "_=joblib.dump(pitch_model,\"pitch_model.pkl\")"
   ]
  },
  {
   "cell_type": "code",
   "execution_count": 8,
   "id": "c7b70c30",
   "metadata": {},
   "outputs": [],
   "source": [
    "#load the models"
   ]
  },
  {
   "cell_type": "code",
   "execution_count": 9,
   "id": "c97ad09c",
   "metadata": {},
   "outputs": [],
   "source": [
    "yaw_model =joblib.load(\"yaw_model.pkl\")\n",
    "roll_model =joblib.load(\"roll_model.pkl\")\n",
    "pitch_model =joblib.load(\"pitch_model.pkl\")"
   ]
  },
  {
   "cell_type": "markdown",
   "id": "34b4be4b",
   "metadata": {},
   "source": [
    "# Full pipeline"
   ]
  },
  {
   "cell_type": "code",
   "execution_count": 10,
   "id": "173bae88",
   "metadata": {},
   "outputs": [],
   "source": [
    "yaw_pip=Pipeline([\n",
    "                    ('preprocessing',preprocessing_pip),\n",
    "                    ('yaw model',yaw_model)\n",
    "                 ])"
   ]
  },
  {
   "cell_type": "code",
   "execution_count": 11,
   "id": "b4e11cbd",
   "metadata": {},
   "outputs": [],
   "source": [
    "pitch_pip=Pipeline([\n",
    "                    ('preprocessing',preprocessing_pip),\n",
    "                    ('yaw model',pitch_model)\n",
    "                 ])"
   ]
  },
  {
   "cell_type": "code",
   "execution_count": 12,
   "id": "f66a37aa",
   "metadata": {},
   "outputs": [],
   "source": [
    "roll_pip=Pipeline([\n",
    "                    ('preprocessing',preprocessing_pip),\n",
    "                    ('yaw model',roll_model)\n",
    "                 ])"
   ]
  },
  {
   "cell_type": "markdown",
   "id": "976cfa0c",
   "metadata": {},
   "source": [
    "# Generate & draw landmarks"
   ]
  },
  {
   "cell_type": "code",
   "execution_count": 42,
   "id": "df32a45d",
   "metadata": {},
   "outputs": [],
   "source": [
    "def generate_landmarks(landmarks,w,h):\n",
    "    #array to hold  the points for the image \n",
    "    points=np.zeros((1,468*2))\n",
    "\n",
    "    j=0 #col (x,y)\n",
    "    for landmark in landmarks.landmark:\n",
    "        x = landmark.x\n",
    "        y = landmark.y\n",
    "    \n",
    "        relative_x = int(w * x)\n",
    "        relative_y = int(h * y)\n",
    "            \n",
    "        points[0,j]=relative_x\n",
    "        points[0,j+1]=relative_y\n",
    "        j+=2\n",
    "    \n",
    "\n",
    "    data=pd.DataFrame(points,columns=x_p.columns)\n",
    "    \n",
    "    return data\n",
    "        "
   ]
  },
  {
   "cell_type": "code",
   "execution_count": 43,
   "id": "dfa1bc6c",
   "metadata": {},
   "outputs": [],
   "source": [
    "def draw_axis(landmark,img,tdx=None, tdy=None, size = 100):\n",
    "    \n",
    "    #predict the angles\n",
    "    landmarks=generate_landmarks(landmark,img.shape[1],img.shape[0])\n",
    "    \n",
    "    ##########\n",
    "    tdx=landmarks['2']\n",
    "    tdy=landmarks['3']\n",
    "    #########\n",
    "    \n",
    "    yaw=yaw_pip.predict(landmarks)\n",
    "    pitch=pitch_pip.predict(landmarks)\n",
    "    roll=roll_pip.predict(landmarks)\n",
    "    \n",
    "    pitch = pitch * np.pi / 180\n",
    "    yaw = -(yaw * np.pi / 180)\n",
    "    roll = roll * np.pi / 180\n",
    "    \n",
    "\n",
    "    # X-Axis pointing to right. drawn in red\n",
    "    x1 = size * (cos(yaw) * cos(roll)) + tdx\n",
    "    y1 = size * (cos(pitch) * sin(roll) + cos(roll) * sin(pitch) * sin(yaw)) + tdy\n",
    "\n",
    "    # Y-Axis | drawn in green\n",
    "    #        v\n",
    "    x2 = size * (-cos(yaw) * sin(roll)) + tdx\n",
    "    y2 = size * (cos(pitch) * cos(roll) - sin(pitch) * sin(yaw) * sin(roll)) + tdy\n",
    "\n",
    "    # Z-Axis (out of the screen) drawn in blue\n",
    "    x3 = size * (sin(yaw)) + tdx\n",
    "    y3 = size * (-cos(yaw) * sin(pitch)) + tdy\n",
    "\n",
    "    \n",
    "    cv2.line(img, (int(tdx), int(tdy)), (int(x1),int(y1)),(0,0,255),3)\n",
    "    cv2.line(img, (int(tdx), int(tdy)), (int(x2),int(y2)),(0,255,0),3)\n",
    "    cv2.line(img, (int(tdx), int(tdy)), (int(x3),int(y3)),(255,0,0),2)\n",
    "    \n",
    "\n",
    "    return img"
   ]
  },
  {
   "cell_type": "code",
   "execution_count": 44,
   "id": "0cf8ba7b",
   "metadata": {},
   "outputs": [],
   "source": [
    "def draw_axis_cam():\n",
    "    #face mesh model\n",
    "    mp_face_mesh = mp.solutions.face_mesh\n",
    "    face_mesh = mp_face_mesh.FaceMesh(static_image_mode = False)\n",
    "    \n",
    "    vid = cv2.VideoCapture(0)\n",
    "    while(True):\n",
    "        \n",
    "        if cv2.waitKey(1) & 0xFF == ord('q'):\n",
    "            vid.release()\n",
    "            cv2.destroyAllWindows()\n",
    "            return\n",
    "        \n",
    "        ret, frame = vid.read()\n",
    "        results = face_mesh.process(cv2.cvtColor(frame, cv2.COLOR_BGR2RGB))\n",
    "\n",
    "        #check if we detect any faces\n",
    "        if not results.multi_face_landmarks:\n",
    "            print(\"no face found\")\n",
    "            cv2.imshow('webCam', frame)\n",
    "      \n",
    "        else:\n",
    "            #get only first face\n",
    "            landmarks = results.multi_face_landmarks[0]\n",
    "            nframe=draw_axis(landmarks,frame)\n",
    "            cv2.imshow('webCam', nframe)\n",
    " \n",
    "        \n",
    "        "
   ]
  },
  {
   "cell_type": "code",
   "execution_count": 52,
   "id": "cea9155d",
   "metadata": {},
   "outputs": [],
   "source": [
    "def draw_axis_video(path):\n",
    "    cap = cv2.VideoCapture(path)\n",
    "    # Check if camera opened successfully\n",
    "    if (cap.isOpened()== False):\n",
    "        print(\"Error opening video stream or file\")\n",
    "\n",
    "    #face mesh model\n",
    "    mp_face_mesh = mp.solutions.face_mesh\n",
    "    face_mesh = mp_face_mesh.FaceMesh(static_image_mode = False)\n",
    "    \n",
    "    frame_width = int(cap.get(3))\n",
    "    frame_height = int(cap.get(4))\n",
    "    \n",
    "    out = cv2.VideoWriter('outpy2.avi',cv2.VideoWriter_fourcc(*'MJPG'), 60, (frame_width,frame_height))\n",
    "                          \n",
    "    while (cap.isOpened()):                                          \n",
    "        ret, frame = cap.read()\n",
    "        if ret == True:\n",
    "            #get landmarks\n",
    "            results = face_mesh.process(cv2.cvtColor(frame, cv2.COLOR_BGR2RGB))\n",
    "            #check if we detect any faces\n",
    "            if not results.multi_face_landmarks:\n",
    "                print(\"no face found\")\n",
    "                out.write(frame)\n",
    "                \n",
    "            else:\n",
    "                #get only first face\n",
    "                landmarks = results.multi_face_landmarks[0]\n",
    "                nframe=draw_axis(landmarks,frame)\n",
    "                out.write(nframe)\n",
    "                \n",
    "            \n",
    "            if cv2.waitKey(25) & 0xFF == ord('q'):\n",
    "                  break\n",
    "\n",
    "            \n",
    "        else:\n",
    "            break\n",
    "\n",
    "    \n",
    "    out.release()\n",
    "    cap.release()\n",
    "    cv2.destroyAllWindows()\n",
    "    return"
   ]
  },
  {
   "cell_type": "code",
   "execution_count": 53,
   "id": "a62835ef",
   "metadata": {},
   "outputs": [],
   "source": [
    "def draw_axis_img (img):\n",
    "    #face mesh model\n",
    "    mp_face_mesh = mp.solutions.face_mesh\n",
    "    face_mesh = mp_face_mesh.FaceMesh(static_image_mode = True)\n",
    "    #get landmarks\n",
    "    results = face_mesh.process(cv2.cvtColor(img, cv2.COLOR_BGR2RGB))\n",
    "    #check if we detect any faces\n",
    "    if not results.multi_face_landmarks:\n",
    "        print(\"no face found\")\n",
    "        return\n",
    "    \n",
    "    #get only first face\n",
    "    landmarks = results.multi_face_landmarks[0]\n",
    "    img=draw_axis(landmarks,img)\n",
    "    cv2.imshow('img',img)\n",
    "    cv2.waitKey(0)\n",
    "    cv2.destroyAllWindows()\n",
    "    cv2.imwrite('outimg.jpg', img)\n",
    "    \n",
    "    "
   ]
  },
  {
   "cell_type": "code",
   "execution_count": 49,
   "id": "90853171",
   "metadata": {},
   "outputs": [],
   "source": [
    "###################### test the result ###################################"
   ]
  },
  {
   "cell_type": "code",
   "execution_count": 50,
   "id": "2b32c89a",
   "metadata": {},
   "outputs": [],
   "source": [
    "#image\n",
    "img=cv2.imread('testimg.jpg')\n",
    "draw_axis_img(img)"
   ]
  },
  {
   "cell_type": "code",
   "execution_count": 51,
   "id": "43acfa28",
   "metadata": {},
   "outputs": [],
   "source": [
    "draw_axis_cam()"
   ]
  },
  {
   "cell_type": "code",
   "execution_count": 54,
   "id": "a378586f",
   "metadata": {},
   "outputs": [],
   "source": [
    "draw_axis_video('video1.mp4')"
   ]
  },
  {
   "cell_type": "code",
   "execution_count": 17,
   "id": "34f6c53d",
   "metadata": {},
   "outputs": [],
   "source": [
    "##########################################"
   ]
  }
 ],
 "metadata": {
  "kernelspec": {
   "display_name": "Python 3 (ipykernel)",
   "language": "python",
   "name": "python3"
  },
  "language_info": {
   "codemirror_mode": {
    "name": "ipython",
    "version": 3
   },
   "file_extension": ".py",
   "mimetype": "text/x-python",
   "name": "python",
   "nbconvert_exporter": "python",
   "pygments_lexer": "ipython3",
   "version": "3.9.7"
  }
 },
 "nbformat": 4,
 "nbformat_minor": 5
}
